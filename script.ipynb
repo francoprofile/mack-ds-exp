{
 "cells": [
  {
   "cell_type": "code",
   "execution_count": null,
   "id": "9226665c-6671-4166-8734-ad74004810f8",
   "metadata": {},
   "outputs": [],
   "source": [
    "# pacotes\n",
    "import pandas as pd"
   ]
  },
  {
   "cell_type": "code",
   "execution_count": null,
   "id": "dd5448ec-c19b-4126-8abf-bf6cb6d5f200",
   "metadata": {},
   "outputs": [],
   "source": [
    "# importa dataframe\n",
    "df = pd.read_csv(\"employee\") # --> trocar para nome a caminho do seu dataframe"
   ]
  },
  {
   "cell_type": "code",
   "execution_count": null,
   "id": "ec95de09-4b28-4f47-a8fe-453ba37bea03",
   "metadata": {},
   "outputs": [],
   "source": [
    "# conta valores nulos em cada coluna\n",
    "for column in df.columns:\n",
    "    print(column, df[column].isnull().sum())"
   ]
  },
  {
   "cell_type": "code",
   "execution_count": null,
   "id": "d65311eb-2e4f-4f5f-b1fb-03694be595a3",
   "metadata": {},
   "outputs": [],
   "source": [
    "# conta valores unicos\n",
    "# colunas valores unicos serao dropadas na celula abaixo\n",
    "for column in df.columns:\n",
    "    print(column, df[column].nunique())"
   ]
  },
  {
   "cell_type": "code",
   "execution_count": null,
   "id": "a26f9874-be02-45f8-9672-a891cc87394a",
   "metadata": {},
   "outputs": [],
   "source": [
    "df = df.drop([\"EmployeeCount\", \"Over18\", \"StandardHours\", \"EmployeeNumber\"], axis = 1)\n",
    "df.shape"
   ]
  },
  {
   "cell_type": "code",
   "execution_count": null,
   "id": "654da6f1-da65-417b-9a86-cf2f248e2b74",
   "metadata": {},
   "outputs": [],
   "source": [
    "# verifica tipos das variaveis\n",
    "df.dtypes"
   ]
  },
  {
   "cell_type": "code",
   "execution_count": null,
   "id": "9a78bb7c-a724-4bc4-b67b-92310cc4d0b1",
   "metadata": {},
   "outputs": [],
   "source": [
    "# encoding de variaveis categoricas\n",
    "for column in df.columns:\n",
    "    if df[column].dtypes == \"object\":\n",
    "        df[column] = df[column].astype(\"category\")"
   ]
  },
  {
   "cell_type": "code",
   "execution_count": null,
   "id": "88a4491a-1f1d-4b65-95cb-f1ec73479aa6",
   "metadata": {},
   "outputs": [],
   "source": [
    "# verifica tipo das variaveis apos o encoding\n",
    "df.dtypes"
   ]
  }
 ],
 "metadata": {
  "kernelspec": {
   "display_name": "Python [conda env:base] *",
   "language": "python",
   "name": "conda-base-py"
  },
  "language_info": {
   "codemirror_mode": {
    "name": "ipython",
    "version": 3
   },
   "file_extension": ".py",
   "mimetype": "text/x-python",
   "name": "python",
   "nbconvert_exporter": "python",
   "pygments_lexer": "ipython3",
   "version": "3.13.5"
  }
 },
 "nbformat": 4,
 "nbformat_minor": 5
}
