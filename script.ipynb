{
 "cells": [
  {
   "cell_type": "code",
   "execution_count": 2,
   "id": "9226665c-6671-4166-8734-ad74004810f8",
   "metadata": {},
   "outputs": [],
   "source": [
    "# pacotes\n",
    "import pandas as pd\n",
    "import numpy as np\n",
    "import seaborn as sns\n",
    "import matplotlib.pyplot as plt"
   ]
  },
  {
   "cell_type": "code",
   "execution_count": 4,
   "id": "dd5448ec-c19b-4126-8abf-bf6cb6d5f200",
   "metadata": {},
   "outputs": [],
   "source": [
    "# importa dataframe\n",
    "df = pd.read_csv(\"employee.csv\") # --> trocar para nome a caminho do seu dataframe"
   ]
  },
  {
   "cell_type": "code",
   "execution_count": 5,
   "id": "ec95de09-4b28-4f47-a8fe-453ba37bea03",
   "metadata": {},
   "outputs": [
    {
     "name": "stdout",
     "output_type": "stream",
     "text": [
      "Age 0\n",
      "Attrition 0\n",
      "BusinessTravel 0\n",
      "DailyRate 0\n",
      "Department 0\n",
      "DistanceFromHome 0\n",
      "Education 0\n",
      "EducationField 0\n",
      "EmployeeCount 0\n",
      "EmployeeNumber 0\n",
      "EnvironmentSatisfaction 0\n",
      "Gender 0\n",
      "HourlyRate 0\n",
      "JobInvolvement 0\n",
      "JobLevel 0\n",
      "JobRole 0\n",
      "JobSatisfaction 0\n",
      "MaritalStatus 0\n",
      "MonthlyIncome 0\n",
      "MonthlyRate 0\n",
      "NumCompaniesWorked 0\n",
      "Over18 0\n",
      "OverTime 0\n",
      "PercentSalaryHike 0\n",
      "PerformanceRating 0\n",
      "RelationshipSatisfaction 0\n",
      "StandardHours 0\n",
      "StockOptionLevel 0\n",
      "TotalWorkingYears 0\n",
      "TrainingTimesLastYear 0\n",
      "WorkLifeBalance 0\n",
      "YearsAtCompany 0\n",
      "YearsInCurrentRole 0\n",
      "YearsSinceLastPromotion 0\n",
      "YearsWithCurrManager 0\n"
     ]
    }
   ],
   "source": [
    "# conta valores nulos em cada coluna\n",
    "for column in df.columns:\n",
    "    print(column, df[column].isnull().sum())"
   ]
  },
  {
   "cell_type": "code",
   "execution_count": 6,
   "id": "d65311eb-2e4f-4f5f-b1fb-03694be595a3",
   "metadata": {},
   "outputs": [
    {
     "name": "stdout",
     "output_type": "stream",
     "text": [
      "Age 43\n",
      "Attrition 2\n",
      "BusinessTravel 3\n",
      "DailyRate 886\n",
      "Department 3\n",
      "DistanceFromHome 29\n",
      "Education 5\n",
      "EducationField 6\n",
      "EmployeeCount 1\n",
      "EmployeeNumber 1470\n",
      "EnvironmentSatisfaction 4\n",
      "Gender 2\n",
      "HourlyRate 71\n",
      "JobInvolvement 4\n",
      "JobLevel 5\n",
      "JobRole 9\n",
      "JobSatisfaction 4\n",
      "MaritalStatus 3\n",
      "MonthlyIncome 1349\n",
      "MonthlyRate 1427\n",
      "NumCompaniesWorked 10\n",
      "Over18 1\n",
      "OverTime 2\n",
      "PercentSalaryHike 15\n",
      "PerformanceRating 2\n",
      "RelationshipSatisfaction 4\n",
      "StandardHours 1\n",
      "StockOptionLevel 4\n",
      "TotalWorkingYears 40\n",
      "TrainingTimesLastYear 7\n",
      "WorkLifeBalance 4\n",
      "YearsAtCompany 37\n",
      "YearsInCurrentRole 19\n",
      "YearsSinceLastPromotion 16\n",
      "YearsWithCurrManager 18\n"
     ]
    }
   ],
   "source": [
    "# conta valores unicos\n",
    "# colunas valores unicos serao dropadas na celula abaixo\n",
    "for column in df.columns:\n",
    "    print(column, df[column].nunique())"
   ]
  },
  {
   "cell_type": "code",
   "execution_count": 7,
   "id": "a26f9874-be02-45f8-9672-a891cc87394a",
   "metadata": {},
   "outputs": [
    {
     "data": {
      "text/plain": [
       "(1470, 31)"
      ]
     },
     "execution_count": 7,
     "metadata": {},
     "output_type": "execute_result"
    }
   ],
   "source": [
    "df = df.drop([\"EmployeeCount\", \"Over18\", \"StandardHours\", \"EmployeeNumber\"], axis = 1)\n",
    "df.shape"
   ]
  },
  {
   "cell_type": "code",
   "execution_count": 8,
   "id": "654da6f1-da65-417b-9a86-cf2f248e2b74",
   "metadata": {},
   "outputs": [
    {
     "data": {
      "text/plain": [
       "Age                          int64\n",
       "Attrition                   object\n",
       "BusinessTravel              object\n",
       "DailyRate                    int64\n",
       "Department                  object\n",
       "DistanceFromHome             int64\n",
       "Education                    int64\n",
       "EducationField              object\n",
       "EnvironmentSatisfaction      int64\n",
       "Gender                      object\n",
       "HourlyRate                   int64\n",
       "JobInvolvement               int64\n",
       "JobLevel                     int64\n",
       "JobRole                     object\n",
       "JobSatisfaction              int64\n",
       "MaritalStatus               object\n",
       "MonthlyIncome                int64\n",
       "MonthlyRate                  int64\n",
       "NumCompaniesWorked           int64\n",
       "OverTime                    object\n",
       "PercentSalaryHike            int64\n",
       "PerformanceRating            int64\n",
       "RelationshipSatisfaction     int64\n",
       "StockOptionLevel             int64\n",
       "TotalWorkingYears            int64\n",
       "TrainingTimesLastYear        int64\n",
       "WorkLifeBalance              int64\n",
       "YearsAtCompany               int64\n",
       "YearsInCurrentRole           int64\n",
       "YearsSinceLastPromotion      int64\n",
       "YearsWithCurrManager         int64\n",
       "dtype: object"
      ]
     },
     "execution_count": 8,
     "metadata": {},
     "output_type": "execute_result"
    }
   ],
   "source": [
    "# verifica tipos das variaveis\n",
    "df.dtypes"
   ]
  },
  {
   "cell_type": "code",
   "execution_count": 9,
   "id": "9a78bb7c-a724-4bc4-b67b-92310cc4d0b1",
   "metadata": {},
   "outputs": [],
   "source": [
    "# encoding de variaveis categoricas\n",
    "for column in df.columns:\n",
    "    if df[column].dtypes == \"object\":\n",
    "        df[column] = df[column].astype(\"category\")"
   ]
  },
  {
   "cell_type": "code",
   "execution_count": 10,
   "id": "88a4491a-1f1d-4b65-95cb-f1ec73479aa6",
   "metadata": {},
   "outputs": [
    {
     "data": {
      "text/plain": [
       "Age                            int64\n",
       "Attrition                   category\n",
       "BusinessTravel              category\n",
       "DailyRate                      int64\n",
       "Department                  category\n",
       "DistanceFromHome               int64\n",
       "Education                      int64\n",
       "EducationField              category\n",
       "EnvironmentSatisfaction        int64\n",
       "Gender                      category\n",
       "HourlyRate                     int64\n",
       "JobInvolvement                 int64\n",
       "JobLevel                       int64\n",
       "JobRole                     category\n",
       "JobSatisfaction                int64\n",
       "MaritalStatus               category\n",
       "MonthlyIncome                  int64\n",
       "MonthlyRate                    int64\n",
       "NumCompaniesWorked             int64\n",
       "OverTime                    category\n",
       "PercentSalaryHike              int64\n",
       "PerformanceRating              int64\n",
       "RelationshipSatisfaction       int64\n",
       "StockOptionLevel               int64\n",
       "TotalWorkingYears              int64\n",
       "TrainingTimesLastYear          int64\n",
       "WorkLifeBalance                int64\n",
       "YearsAtCompany                 int64\n",
       "YearsInCurrentRole             int64\n",
       "YearsSinceLastPromotion        int64\n",
       "YearsWithCurrManager           int64\n",
       "dtype: object"
      ]
     },
     "execution_count": 10,
     "metadata": {},
     "output_type": "execute_result"
    }
   ],
   "source": [
    "# verifica tipo das variaveis apos o encoding\n",
    "df.dtypes"
   ]
  },
  {
   "cell_type": "code",
   "execution_count": null,
   "id": "0b26b64c-59b4-4704-b058-e0a558ac4a81",
   "metadata": {},
   "outputs": [],
   "source": [
    "# plot heatmap --> verifica correlacao entre variaveis\n",
    "corr_matrix = df.corr(method = \"spearman\", numeric_i)"
   ]
  }
 ],
 "metadata": {
  "kernelspec": {
   "display_name": "Python [conda env:base] *",
   "language": "python",
   "name": "conda-base-py"
  },
  "language_info": {
   "codemirror_mode": {
    "name": "ipython",
    "version": 3
   },
   "file_extension": ".py",
   "mimetype": "text/x-python",
   "name": "python",
   "nbconvert_exporter": "python",
   "pygments_lexer": "ipython3",
   "version": "3.13.5"
  }
 },
 "nbformat": 4,
 "nbformat_minor": 5
}
